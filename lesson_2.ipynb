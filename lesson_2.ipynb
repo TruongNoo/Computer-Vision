{
 "cells": [
  {
   "cell_type": "markdown",
   "metadata": {},
   "source": [
    "**Tăng giảm mức xám**"
   ]
  },
  {
   "cell_type": "code",
   "execution_count": 1,
   "metadata": {},
   "outputs": [
    {
     "data": {
      "text/plain": [
       "-1"
      ]
     },
     "execution_count": 1,
     "metadata": {},
     "output_type": "execute_result"
    }
   ],
   "source": [
    "import cv2\n",
    "\n",
    "# Đọc hình ảnh\n",
    "image = cv2.imread('BG.jpg', cv2.IMREAD_GRAYSCALE)\n",
    "\n",
    "cv2.imshow('Input', image)\n",
    "\n",
    "cv2.waitKey(33)\n",
    "\n",
    "Min = 0\n",
    "Max = 255\n",
    "c = 70\n",
    "\n",
    "rows = image.shape[0]\n",
    "cols = image.shape[1]\n",
    "\n",
    "for i in range(rows):\n",
    "    for j in range(cols):\n",
    "        p = image[i][j] + c\n",
    "        if p > Max:\n",
    "            image[i][j] = Max\n",
    "        elif p < Min:\n",
    "            image[i][j] = Min\n",
    "        else: \n",
    "            image[i][j] = p\n",
    "\n",
    "cv2.imshow('Output', image)\n",
    "\n",
    "cv2.waitKey(0)"
   ]
  },
  {
   "cell_type": "markdown",
   "metadata": {},
   "source": [
    "**Tác động C lên từng kênh màu**"
   ]
  },
  {
   "cell_type": "code",
   "execution_count": 6,
   "metadata": {},
   "outputs": [
    {
     "data": {
      "text/plain": [
       "-1"
      ]
     },
     "execution_count": 6,
     "metadata": {},
     "output_type": "execute_result"
    }
   ],
   "source": [
    "img = cv2.imread('BG.jpg')\n",
    "\n",
    "cv2.imshow('Input_1', img)\n",
    "\n",
    "cv2.waitKey(33)\n",
    "\n",
    "Min = 0\n",
    "Max = 255\n",
    "c = 50\n",
    "\n",
    "rows = img.shape[0]\n",
    "cols = img.shape[1]\n",
    "\n",
    "for i in range(rows):\n",
    "    for j in range(cols):\n",
    "        p_b = img[i,j,0] + c\n",
    "        p_g = img[i,j,1] + c\n",
    "        p_r = img[i,j,2] - c\n",
    "        img[i,j,0] = min(p_b, Max)\n",
    "        img[i,j,1] = min(p_g, Max)\n",
    "        img[i,j,2] = max(p_r, Min)\n",
    "cv2.imshow('Output_2', img)\n",
    "\n",
    "cv2.waitKey(0)"
   ]
  },
  {
   "cell_type": "markdown",
   "metadata": {},
   "source": [
    "**Phần ngưỡng**"
   ]
  },
  {
   "cell_type": "code",
   "execution_count": 1,
   "metadata": {},
   "outputs": [],
   "source": [
    "import cv2\n",
    "\n",
    "# Đọc hình ảnh\n",
    "image = cv2.imread('bsx.jpg', cv2.IMREAD_GRAYSCALE)\n",
    "\n",
    "cv2.imshow('Input', image)\n",
    "\n",
    "cv2.waitKey(33)\n",
    "\n",
    "Min = 0\n",
    "Max = 255\n",
    "T = 127\n",
    "\n",
    "rows = image.shape[0]\n",
    "cols = image.shape[1]\n",
    "\n",
    "for i in range(rows):\n",
    "    for j in range(cols):\n",
    "        image[i,j] = Max if image[i][j] > T else Min\n",
    "\n",
    "cv2.imshow('Output', image)\n",
    "\n",
    "cv2.waitKey(0)"
   ]
  },
  {
   "cell_type": "markdown",
   "metadata": {},
   "source": [
    "**Phát hiện chuyển động**"
   ]
  },
  {
   "cell_type": "code",
   "execution_count": 3,
   "metadata": {},
   "outputs": [],
   "source": [
    "import cv2\n",
    "import numpy as np\n",
    "\n",
    "frame_width = 640\n",
    "frame_height = 480\n",
    "cap = cv2.VideoCapture(0)\n",
    "I_t = None\n",
    "\n",
    "while(True):\n",
    "      \n",
    "    ret, frame = cap.read()\n",
    " \n",
    "    grayFrame = cv2.cvtColor(frame, cv2.COLOR_BGR2GRAY)\n",
    "    \n",
    "    cv2.imshow('Movement Sensor', grayFrame)\n",
    "\n",
    "    if cv2.waitKey(1) & 0xFF == ord('q'):\n",
    "        break\n",
    "\n",
    "cap.release()\n",
    "cv2.destroyAllWindows()"
   ]
  }
 ],
 "metadata": {
  "kernelspec": {
   "display_name": "base",
   "language": "python",
   "name": "python3"
  },
  "language_info": {
   "codemirror_mode": {
    "name": "ipython",
    "version": 3
   },
   "file_extension": ".py",
   "mimetype": "text/x-python",
   "name": "python",
   "nbconvert_exporter": "python",
   "pygments_lexer": "ipython3",
   "version": "3.10.9"
  },
  "orig_nbformat": 4
 },
 "nbformat": 4,
 "nbformat_minor": 2
}
